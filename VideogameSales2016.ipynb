{
 "cells": [
  {
   "cell_type": "markdown",
   "id": "0375c536",
   "metadata": {},
   "source": [
    " <div class=\"alert alert-block alert-info\" style=\"margin-top: 20px\">\n",
    "    <h1 align=center>Data Analysis</h1>\n",
    "    <h1 align=center>Video Game Sales in 2016</h1>\n",
    "</div>"
   ]
  },
  {
   "cell_type": "markdown",
   "id": "51340fa8",
   "metadata": {},
   "source": [
    "This notebook provides the code for video game sales analysis using python and sql"
   ]
  },
  {
   "cell_type": "markdown",
   "id": "82dbb324",
   "metadata": {},
   "source": [
    "<div> Notebook by\n",
    "    <a href=\"https://github.com/Farhinsyd\"><b>Farhin_Saiyed</b></a></div>"
   ]
  },
  {
   "cell_type": "markdown",
   "id": "aaa984d7",
   "metadata": {},
   "source": [
    "### Connect Mysql server"
   ]
  },
  {
   "cell_type": "code",
   "execution_count": null,
   "id": "57b9a7f4",
   "metadata": {},
   "outputs": [],
   "source": [
    "pip install mysql-connector-python "
   ]
  },
  {
   "cell_type": "code",
   "execution_count": 2,
   "id": "95d4119a",
   "metadata": {},
   "outputs": [],
   "source": [
    "#Import Python Libraries\n",
    "\n",
    "import mysql.connector as sql\n",
    "import pandas as pd\n"
   ]
  },
  {
   "cell_type": "markdown",
   "id": "137e2db6",
   "metadata": {},
   "source": [
    "Read Data into pandas datafrome from mysql database"
   ]
  },
  {
   "cell_type": "code",
   "execution_count": 21,
   "id": "bfdf6c2c",
   "metadata": {},
   "outputs": [],
   "source": [
    "df2=pd.read_csv('C:/path/mysql.txt', sep=',')\n",
    "\n",
    "mydb1=sql.connect(host='localhost',user='root',password=df2.iat[0,0], db='ap') "
   ]
  },
  {
   "cell_type": "markdown",
   "id": "99286590",
   "metadata": {},
   "source": [
    "Sql query to read all data from the dataset"
   ]
  },
  {
   "cell_type": "code",
   "execution_count": 25,
   "id": "2075a409",
   "metadata": {},
   "outputs": [
    {
     "data": {
      "text/html": [
       "<div>\n",
       "<style scoped>\n",
       "    .dataframe tbody tr th:only-of-type {\n",
       "        vertical-align: middle;\n",
       "    }\n",
       "\n",
       "    .dataframe tbody tr th {\n",
       "        vertical-align: top;\n",
       "    }\n",
       "\n",
       "    .dataframe thead th {\n",
       "        text-align: right;\n",
       "    }\n",
       "</style>\n",
       "<table border=\"1\" class=\"dataframe\">\n",
       "  <thead>\n",
       "    <tr style=\"text-align: right;\">\n",
       "      <th></th>\n",
       "      <th>Name</th>\n",
       "      <th>Platform</th>\n",
       "      <th>Year_of_Release</th>\n",
       "      <th>Genre</th>\n",
       "      <th>Publisher</th>\n",
       "      <th>NA_Sales</th>\n",
       "      <th>EU_Sales</th>\n",
       "      <th>JP_Sales</th>\n",
       "      <th>Other_Sales</th>\n",
       "      <th>Global_Sales</th>\n",
       "      <th>Critic_Score</th>\n",
       "      <th>Critic_Count</th>\n",
       "      <th>User_Score</th>\n",
       "      <th>User_Count</th>\n",
       "      <th>Developer</th>\n",
       "      <th>Rating</th>\n",
       "    </tr>\n",
       "  </thead>\n",
       "  <tbody>\n",
       "    <tr>\n",
       "      <th>0</th>\n",
       "      <td>Wii Sports</td>\n",
       "      <td>Wii</td>\n",
       "      <td>2006</td>\n",
       "      <td>Sports</td>\n",
       "      <td>Nintendo</td>\n",
       "      <td>41.36</td>\n",
       "      <td>28.96</td>\n",
       "      <td>3.77</td>\n",
       "      <td>8.45</td>\n",
       "      <td>82.53</td>\n",
       "      <td>76</td>\n",
       "      <td>51</td>\n",
       "      <td>8</td>\n",
       "      <td>322</td>\n",
       "      <td>Nintendo</td>\n",
       "      <td>E</td>\n",
       "    </tr>\n",
       "    <tr>\n",
       "      <th>1</th>\n",
       "      <td>Super Mario Bros.</td>\n",
       "      <td>NES</td>\n",
       "      <td>1985</td>\n",
       "      <td>Platform</td>\n",
       "      <td>Nintendo</td>\n",
       "      <td>29.08</td>\n",
       "      <td>3.58</td>\n",
       "      <td>6.81</td>\n",
       "      <td>0.77</td>\n",
       "      <td>40.24</td>\n",
       "      <td></td>\n",
       "      <td></td>\n",
       "      <td></td>\n",
       "      <td></td>\n",
       "      <td></td>\n",
       "      <td></td>\n",
       "    </tr>\n",
       "    <tr>\n",
       "      <th>2</th>\n",
       "      <td>Mario Kart Wii</td>\n",
       "      <td>Wii</td>\n",
       "      <td>2008</td>\n",
       "      <td>Racing</td>\n",
       "      <td>Nintendo</td>\n",
       "      <td>15.68</td>\n",
       "      <td>12.76</td>\n",
       "      <td>3.79</td>\n",
       "      <td>3.29</td>\n",
       "      <td>35.52</td>\n",
       "      <td>82</td>\n",
       "      <td>73</td>\n",
       "      <td>8.3</td>\n",
       "      <td>709</td>\n",
       "      <td>Nintendo</td>\n",
       "      <td>E</td>\n",
       "    </tr>\n",
       "    <tr>\n",
       "      <th>3</th>\n",
       "      <td>Wii Sports Resort</td>\n",
       "      <td>Wii</td>\n",
       "      <td>2009</td>\n",
       "      <td>Sports</td>\n",
       "      <td>Nintendo</td>\n",
       "      <td>15.61</td>\n",
       "      <td>10.93</td>\n",
       "      <td>3.28</td>\n",
       "      <td>2.95</td>\n",
       "      <td>32.77</td>\n",
       "      <td>80</td>\n",
       "      <td>73</td>\n",
       "      <td>8</td>\n",
       "      <td>192</td>\n",
       "      <td>Nintendo</td>\n",
       "      <td>E</td>\n",
       "    </tr>\n",
       "    <tr>\n",
       "      <th>4</th>\n",
       "      <td>Pokemon Red/Pokemon Blue</td>\n",
       "      <td>GB</td>\n",
       "      <td>1996</td>\n",
       "      <td>Role-Playing</td>\n",
       "      <td>Nintendo</td>\n",
       "      <td>11.27</td>\n",
       "      <td>8.89</td>\n",
       "      <td>10.22</td>\n",
       "      <td>1.00</td>\n",
       "      <td>31.37</td>\n",
       "      <td></td>\n",
       "      <td></td>\n",
       "      <td></td>\n",
       "      <td></td>\n",
       "      <td></td>\n",
       "      <td></td>\n",
       "    </tr>\n",
       "    <tr>\n",
       "      <th>...</th>\n",
       "      <td>...</td>\n",
       "      <td>...</td>\n",
       "      <td>...</td>\n",
       "      <td>...</td>\n",
       "      <td>...</td>\n",
       "      <td>...</td>\n",
       "      <td>...</td>\n",
       "      <td>...</td>\n",
       "      <td>...</td>\n",
       "      <td>...</td>\n",
       "      <td>...</td>\n",
       "      <td>...</td>\n",
       "      <td>...</td>\n",
       "      <td>...</td>\n",
       "      <td>...</td>\n",
       "      <td>...</td>\n",
       "    </tr>\n",
       "    <tr>\n",
       "      <th>16445</th>\n",
       "      <td>Samurai Warriors: Sanada Maru</td>\n",
       "      <td>PS3</td>\n",
       "      <td>2016</td>\n",
       "      <td>Action</td>\n",
       "      <td>Tecmo Koei</td>\n",
       "      <td>0.00</td>\n",
       "      <td>0.00</td>\n",
       "      <td>0.01</td>\n",
       "      <td>0.00</td>\n",
       "      <td>0.01</td>\n",
       "      <td></td>\n",
       "      <td></td>\n",
       "      <td></td>\n",
       "      <td></td>\n",
       "      <td></td>\n",
       "      <td></td>\n",
       "    </tr>\n",
       "    <tr>\n",
       "      <th>16446</th>\n",
       "      <td>LMA Manager 2007</td>\n",
       "      <td>X360</td>\n",
       "      <td>2006</td>\n",
       "      <td>Sports</td>\n",
       "      <td>Codemasters</td>\n",
       "      <td>0.00</td>\n",
       "      <td>0.01</td>\n",
       "      <td>0.00</td>\n",
       "      <td>0.00</td>\n",
       "      <td>0.01</td>\n",
       "      <td></td>\n",
       "      <td></td>\n",
       "      <td></td>\n",
       "      <td></td>\n",
       "      <td></td>\n",
       "      <td></td>\n",
       "    </tr>\n",
       "    <tr>\n",
       "      <th>16447</th>\n",
       "      <td>Haitaka no Psychedelica</td>\n",
       "      <td>PSV</td>\n",
       "      <td>2016</td>\n",
       "      <td>Adventure</td>\n",
       "      <td>Idea Factory</td>\n",
       "      <td>0.00</td>\n",
       "      <td>0.00</td>\n",
       "      <td>0.01</td>\n",
       "      <td>0.00</td>\n",
       "      <td>0.01</td>\n",
       "      <td></td>\n",
       "      <td></td>\n",
       "      <td></td>\n",
       "      <td></td>\n",
       "      <td></td>\n",
       "      <td></td>\n",
       "    </tr>\n",
       "    <tr>\n",
       "      <th>16448</th>\n",
       "      <td>Spirits &amp; Spells</td>\n",
       "      <td>GBA</td>\n",
       "      <td>2003</td>\n",
       "      <td>Platform</td>\n",
       "      <td>Wanadoo</td>\n",
       "      <td>0.01</td>\n",
       "      <td>0.00</td>\n",
       "      <td>0.00</td>\n",
       "      <td>0.00</td>\n",
       "      <td>0.01</td>\n",
       "      <td></td>\n",
       "      <td></td>\n",
       "      <td></td>\n",
       "      <td></td>\n",
       "      <td></td>\n",
       "      <td></td>\n",
       "    </tr>\n",
       "    <tr>\n",
       "      <th>16449</th>\n",
       "      <td>Winning Post 8 2016</td>\n",
       "      <td>PSV</td>\n",
       "      <td>2016</td>\n",
       "      <td>Simulation</td>\n",
       "      <td>Tecmo Koei</td>\n",
       "      <td>0.00</td>\n",
       "      <td>0.00</td>\n",
       "      <td>0.01</td>\n",
       "      <td>0.00</td>\n",
       "      <td>0.01</td>\n",
       "      <td></td>\n",
       "      <td></td>\n",
       "      <td></td>\n",
       "      <td></td>\n",
       "      <td></td>\n",
       "      <td></td>\n",
       "    </tr>\n",
       "  </tbody>\n",
       "</table>\n",
       "<p>16450 rows × 16 columns</p>\n",
       "</div>"
      ],
      "text/plain": [
       "                                Name Platform  Year_of_Release         Genre  \\\n",
       "0                         Wii Sports      Wii             2006        Sports   \n",
       "1                  Super Mario Bros.      NES             1985      Platform   \n",
       "2                     Mario Kart Wii      Wii             2008        Racing   \n",
       "3                  Wii Sports Resort      Wii             2009        Sports   \n",
       "4           Pokemon Red/Pokemon Blue       GB             1996  Role-Playing   \n",
       "...                              ...      ...              ...           ...   \n",
       "16445  Samurai Warriors: Sanada Maru      PS3             2016        Action   \n",
       "16446               LMA Manager 2007     X360             2006        Sports   \n",
       "16447        Haitaka no Psychedelica      PSV             2016     Adventure   \n",
       "16448               Spirits & Spells      GBA             2003      Platform   \n",
       "16449            Winning Post 8 2016      PSV             2016    Simulation   \n",
       "\n",
       "          Publisher  NA_Sales  EU_Sales  JP_Sales  Other_Sales  Global_Sales  \\\n",
       "0          Nintendo     41.36     28.96      3.77         8.45         82.53   \n",
       "1          Nintendo     29.08      3.58      6.81         0.77         40.24   \n",
       "2          Nintendo     15.68     12.76      3.79         3.29         35.52   \n",
       "3          Nintendo     15.61     10.93      3.28         2.95         32.77   \n",
       "4          Nintendo     11.27      8.89     10.22         1.00         31.37   \n",
       "...             ...       ...       ...       ...          ...           ...   \n",
       "16445    Tecmo Koei      0.00      0.00      0.01         0.00          0.01   \n",
       "16446   Codemasters      0.00      0.01      0.00         0.00          0.01   \n",
       "16447  Idea Factory      0.00      0.00      0.01         0.00          0.01   \n",
       "16448       Wanadoo      0.01      0.00      0.00         0.00          0.01   \n",
       "16449    Tecmo Koei      0.00      0.00      0.01         0.00          0.01   \n",
       "\n",
       "      Critic_Score Critic_Count User_Score User_Count Developer Rating  \n",
       "0               76           51          8        322  Nintendo      E  \n",
       "1                                                                       \n",
       "2               82           73        8.3        709  Nintendo      E  \n",
       "3               80           73          8        192  Nintendo      E  \n",
       "4                                                                       \n",
       "...            ...          ...        ...        ...       ...    ...  \n",
       "16445                                                                   \n",
       "16446                                                                   \n",
       "16447                                                                   \n",
       "16448                                                                   \n",
       "16449                                                                   \n",
       "\n",
       "[16450 rows x 16 columns]"
      ]
     },
     "execution_count": 25,
     "metadata": {},
     "output_type": "execute_result"
    }
   ],
   "source": [
    "# read a simple query into DataFrame\n",
    "df=pd.read_sql_query(\"SELECT * FROM data_1202.vgsales_2016\", conn)\n",
    "df"
   ]
  },
  {
   "cell_type": "code",
   "execution_count": 26,
   "id": "462d3dae",
   "metadata": {},
   "outputs": [
    {
     "name": "stdout",
     "output_type": "stream",
     "text": [
      "                       Name Platform  Year_of_Release         Genre Publisher  \\\n",
      "0                Wii Sports      Wii             2006        Sports  Nintendo   \n",
      "1         Super Mario Bros.      NES             1985      Platform  Nintendo   \n",
      "2            Mario Kart Wii      Wii             2008        Racing  Nintendo   \n",
      "3         Wii Sports Resort      Wii             2009        Sports  Nintendo   \n",
      "4  Pokemon Red/Pokemon Blue       GB             1996  Role-Playing  Nintendo   \n",
      "\n",
      "   NA_Sales  EU_Sales  JP_Sales  Other_Sales  Global_Sales Critic_Score  \\\n",
      "0     41.36     28.96      3.77         8.45         82.53           76   \n",
      "1     29.08      3.58      6.81         0.77         40.24                \n",
      "2     15.68     12.76      3.79         3.29         35.52           82   \n",
      "3     15.61     10.93      3.28         2.95         32.77           80   \n",
      "4     11.27      8.89     10.22         1.00         31.37                \n",
      "\n",
      "  Critic_Count User_Score User_Count Developer Rating  \n",
      "0           51          8        322  Nintendo      E  \n",
      "1                                                      \n",
      "2           73        8.3        709  Nintendo      E  \n",
      "3           73          8        192  Nintendo      E  \n",
      "4                                                      \n"
     ]
    }
   ],
   "source": [
    "# print DataFrame and shaw the first 10 raws\n",
    "print(df.head())"
   ]
  },
  {
   "cell_type": "code",
   "execution_count": 27,
   "id": "11215301",
   "metadata": {},
   "outputs": [
    {
     "data": {
      "text/plain": [
       "Name                object\n",
       "Platform            object\n",
       "Year_of_Release      int64\n",
       "Genre               object\n",
       "Publisher           object\n",
       "NA_Sales           float64\n",
       "EU_Sales           float64\n",
       "JP_Sales           float64\n",
       "Other_Sales        float64\n",
       "Global_Sales       float64\n",
       "Critic_Score        object\n",
       "Critic_Count        object\n",
       "User_Score          object\n",
       "User_Count          object\n",
       "Developer           object\n",
       "Rating              object\n",
       "dtype: object"
      ]
     },
     "execution_count": 27,
     "metadata": {},
     "output_type": "execute_result"
    }
   ],
   "source": [
    "#What types of columns we have in this data frame?\n",
    "df.dtypes"
   ]
  },
  {
   "cell_type": "markdown",
   "id": "2c300b66",
   "metadata": {},
   "source": [
    "### Query to calculate the average sales before or after 2005"
   ]
  },
  {
   "cell_type": "code",
   "execution_count": 38,
   "id": "744055ca",
   "metadata": {},
   "outputs": [],
   "source": [
    "# read a complex query into DataFrame\n",
    "complex_df = pd.read_sql('''SELECT q1.Pre_2005, q2.Post_2005,(case\n",
    "WHEN q1.Pre_2005 < q2.Post_2005 THEN \"Average of global sales higher after 2005\"\n",
    "ELSE \"Average of global sales higher before 2005\"\n",
    "END) Result\n",
    "FROM(\n",
    "SELECT avg(Global_sales) as Pre_2005 FROM data_1202.`vgsales_2016` where Year_of_Release < 2005) q1, \n",
    "(SELECT avg(Global_sales) as Post_2005 FROM data_1202.`vgsales_2016` where Year_of_Release > 2005) q2;''', conn)"
   ]
  },
  {
   "cell_type": "markdown",
   "id": "5ca59691",
   "metadata": {},
   "source": [
    "### Display analysis output"
   ]
  },
  {
   "cell_type": "code",
   "execution_count": 39,
   "id": "4739a140",
   "metadata": {
    "scrolled": false
   },
   "outputs": [
    {
     "name": "stdout",
     "output_type": "stream",
     "text": [
      "   Pre_2005  Post_2005                                      Result\n",
      "0  0.650039   0.483673  Average of global sales higher before 2005\n"
     ]
    }
   ],
   "source": [
    "print(complex_df)"
   ]
  },
  {
   "cell_type": "markdown",
   "id": "52c337ee",
   "metadata": {},
   "source": [
    "The average global sales of video games were higher before 2005 according to this data analysis"
   ]
  }
 ],
 "metadata": {
  "kernelspec": {
   "display_name": "Python 3",
   "language": "python",
   "name": "python3"
  },
  "language_info": {
   "codemirror_mode": {
    "name": "ipython",
    "version": 3
   },
   "file_extension": ".py",
   "mimetype": "text/x-python",
   "name": "python",
   "nbconvert_exporter": "python",
   "pygments_lexer": "ipython3",
   "version": "3.8.8"
  }
 },
 "nbformat": 4,
 "nbformat_minor": 5
}
